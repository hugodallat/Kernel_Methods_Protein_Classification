{
 "cells": [
  {
   "cell_type": "markdown",
   "id": "satisfied-sugar",
   "metadata": {},
   "source": [
    "# Processing"
   ]
  },
  {
   "cell_type": "code",
   "execution_count": 129,
   "id": "portuguese-preference",
   "metadata": {},
   "outputs": [],
   "source": [
    "import pandas as pd\n",
    "import numpy as np\n",
    "from cvxopt import matrix, solvers\n",
    "\n",
    "from datahandler import datahandler\n",
    "import predictors\n",
    "from kernels import Kernel\n",
    "from sklearn import datasets\n",
    "import matplotlib.pyplot as plt"
   ]
  },
  {
   "cell_type": "code",
   "execution_count": 130,
   "id": "rolled-heading",
   "metadata": {},
   "outputs": [],
   "source": [
    "path_data = 'dataset/Xtr2_mat100.csv'\n",
    "path_label = 'dataset/Ytr2.csv'"
   ]
  },
  {
   "cell_type": "code",
   "execution_count": 131,
   "id": "educational-recorder",
   "metadata": {},
   "outputs": [],
   "source": [
    "dataset = datahandler(path_data, path_label,features_generated=True)\n",
    "X,y = dataset.X, dataset.Y\n",
    "X_train, X_val, Y_train, Y_val = dataset.train_val(X,y)"
   ]
  },
  {
   "cell_type": "markdown",
   "id": "bridal-covering",
   "metadata": {},
   "source": [
    "# Predictors"
   ]
  },
  {
   "cell_type": "markdown",
   "id": "hungarian-portland",
   "metadata": {},
   "source": [
    "#### Ridge regression"
   ]
  },
  {
   "cell_type": "code",
   "execution_count": 132,
   "id": "younger-brand",
   "metadata": {},
   "outputs": [
    {
     "name": "stdout",
     "output_type": "stream",
     "text": [
      "Train Accuracy: 72.8870858688303%\n",
      "Val Accuracy: 67.17850287907869%\n"
     ]
    }
   ],
   "source": [
    "Y_train_ridge, Y_val_ridge = Y_train.copy(), Y_val.copy()\n",
    "\n",
    "lambda_reg = 1e-5\n",
    "rr = predictors.RR(lambda_reg)\n",
    "rr.fit(X_train, Y_train_ridge)\n",
    "\n",
    "Y_val_predict = rr.predict(X_val)\n",
    "Y_train_predict = rr.predict(X_train)\n",
    "\n",
    "train_acc = np.sum(Y_train_predict == Y_train_ridge)/len(Y_train_ridge)\n",
    "val_acc = np.sum(Y_val_predict == Y_val_ridge)/len(Y_val_predict)\n",
    "\n",
    "print('Train Accuracy: {}%'.format(train_acc*100))\n",
    "print('Val Accuracy: {}%'.format(val_acc*100))\n",
    "    "
   ]
  },
  {
   "cell_type": "markdown",
   "id": "advanced-spirituality",
   "metadata": {},
   "source": [
    "#### Ridge Kernel regression"
   ]
  },
  {
   "cell_type": "code",
   "execution_count": 133,
   "id": "capital-helicopter",
   "metadata": {},
   "outputs": [
    {
     "name": "stderr",
     "output_type": "stream",
     "text": [
      "100%|█████████████████████████████████████████████████████████████████████████████| 1479/1479 [00:14<00:00, 105.38it/s]\n",
      "100%|████████████████████████████████████████████████████████████████████████████████| 521/521 [00:09<00:00, 56.06it/s]"
     ]
    },
    {
     "name": "stdout",
     "output_type": "stream",
     "text": [
      "Train Accuracy: 98.85057471264368%\n",
      "Val Accuracy: 68.71401151631477%\n"
     ]
    },
    {
     "name": "stderr",
     "output_type": "stream",
     "text": [
      "\n"
     ]
    }
   ],
   "source": [
    "Y_train_ridge, Y_val_ridge = Y_train.copy(), Y_val.copy()\n",
    "\n",
    "sigma = 0.06\n",
    "lambda_reg = 0.007\n",
    "\n",
    "kernel = Kernel(Kernel.gaussian(sigma))\n",
    "K_RR = kernel.kernel_matrix(X_train)\n",
    "alpha = predictors.Kernel_RR(lambda_reg).fit(K_RR,Y_train)\n",
    "\n",
    "Y_train_predict = np.sign(np.dot(K_RR,alpha))\n",
    "Y_val_predict = kernel.predict(X_train, X_val,alpha)\n",
    "\n",
    "\n",
    "train_acc = np.sum(Y_train_predict == Y_train_ridge)/len(Y_train_ridge)\n",
    "val_acc = np.sum(Y_val_predict == Y_val_ridge)/len(Y_val_predict)\n",
    "\n",
    "print('Train Accuracy: {}%'.format(train_acc*100))\n",
    "print('Val Accuracy: {}%'.format(val_acc*100))"
   ]
  },
  {
   "cell_type": "markdown",
   "id": "federal-access",
   "metadata": {},
   "source": [
    "### SVM"
   ]
  },
  {
   "cell_type": "markdown",
   "id": "future-crossing",
   "metadata": {},
   "source": [
    "#### Toy Dataset - Double moons"
   ]
  },
  {
   "cell_type": "code",
   "execution_count": 9,
   "id": "beneficial-iceland",
   "metadata": {},
   "outputs": [
    {
     "name": "stdout",
     "output_type": "stream",
     "text": [
      "X_train and Y_train shape: (110, 2),(110, 1)\n",
      "X_val and Y_val shape: (40, 2),(40, 1)\n"
     ]
    },
    {
     "name": "stderr",
     "output_type": "stream",
     "text": [
      "C:\\Users\\Hugo\\anaconda3\\lib\\site-packages\\sklearn\\utils\\validation.py:70: FutureWarning: Pass shuffle=2 as keyword args. From version 0.25 passing these as positional arguments will result in an error\n",
      "  FutureWarning)\n"
     ]
    }
   ],
   "source": [
    "X,Y = datasets.make_moons(150,2)\n",
    "Y[Y==0] = -1\n",
    "Y = Y.reshape(-1,1)\n",
    "XY = np.hstack([X,Y])\n",
    "\n",
    "\n",
    "msk = np.random.rand(X.shape[0]) < 0.75\n",
    "X_train, Y_train = XY[msk][:,:-1], XY[msk][:,-1]\n",
    "X_val, Y_val = XY[~msk][:,:-1], XY[~msk][:,-1]\n",
    "\n",
    "Y_train = Y_train.reshape(-1,1)\n",
    "Y_val = Y_val.reshape(-1,1)\n",
    "\n",
    "print('X_train and Y_train shape: {},{}'.format(X_train.shape, Y_train.shape))\n",
    "print('X_val and Y_val shape: {},{}'.format(X_val.shape, Y_val.shape))\n",
    "\n",
    "Y_train_svm, Y_val_svm = Y_train.copy(), Y_val.copy()\n",
    "\n",
    "sigma = 0.1\n",
    "lambda_reg = 100\n",
    "\n",
    "kernel = Kernel(Kernel.gaussian(sigma))\n",
    "K_SVM = kernel.kernel_matrix(X_train)\n",
    "alpha = predictors.SVM.fit(K_SVM,Y_train_svm,lambda_reg)\n",
    "\n",
    "Y_train_predict = np.sign(np.dot(K_SVM,alpha))\n",
    "Y_val_predict = kernel.predict(X_train, X_val,alpha)\n",
    "\n",
    "\n",
    "train_acc = np.sum(Y_train_predict == Y_train_svm)/len(Y_train_svm)\n",
    "val_acc = np.sum(Y_val_predict == Y_val_svm)/len(Y_val_svm)\n",
    "\n",
    "print('Train Accuracy: {}%'.format(train_acc*100))\n",
    "print('Val Accuracy: {}%'.format(val_acc*100))"
   ]
  },
  {
   "cell_type": "markdown",
   "id": "linear-grill",
   "metadata": {},
   "source": [
    "#### Real data"
   ]
  },
  {
   "cell_type": "code",
   "execution_count": 67,
   "id": "indonesian-naples",
   "metadata": {},
   "outputs": [
    {
     "name": "stderr",
     "output_type": "stream",
     "text": [
      "100%|█████████████████████████████████████████████████████████████████████████████| 1517/1517 [00:14<00:00, 107.57it/s]\n"
     ]
    },
    {
     "name": "stdout",
     "output_type": "stream",
     "text": [
      "     pcost       dcost       gap    pres   dres\n",
      " 0:  3.4998e+04 -1.4472e+05  2e+05  3e-17  3e-14\n",
      " 1:  4.9182e+03 -8.4190e+03  1e+04  2e-16  3e-14\n",
      " 2:  3.8851e+02 -1.3852e+03  2e+03  2e-16  8e-15\n",
      " 3: -1.2581e+02 -3.5718e+02  2e+02  2e-16  4e-15\n",
      " 4: -1.6052e+02 -1.7765e+02  2e+01  2e-16  2e-15\n",
      " 5: -1.6090e+02 -1.6119e+02  3e-01  2e-16  1e-15\n",
      " 6: -1.6090e+02 -1.6090e+02  3e-03  2e-16  1e-15\n",
      " 7: -1.6090e+02 -1.6090e+02  3e-05  2e-16  1e-15\n",
      "Optimal solution found.\n"
     ]
    },
    {
     "name": "stderr",
     "output_type": "stream",
     "text": [
      "100%|████████████████████████████████████████████████████████████████████████████████| 483/483 [00:08<00:00, 55.35it/s]"
     ]
    },
    {
     "name": "stdout",
     "output_type": "stream",
     "text": [
      "Train Accuracy: 100.0%\n",
      "Val Accuracy: 59.42028985507246%\n"
     ]
    },
    {
     "name": "stderr",
     "output_type": "stream",
     "text": [
      "\n"
     ]
    }
   ],
   "source": [
    "Y_train_svm, Y_val_svm = Y_train.copy(), Y_val.copy()\n",
    "\n",
    "sigma = 0.043\n",
    "lambda_reg = 1e-5\n",
    "\n",
    "kernel = Kernel(Kernel.gaussian(sigma))\n",
    "K_SVM = kernel.kernel_matrix(X_train)\n",
    "alpha = predictors.SVM.fit(K_SVM,Y_train_svm,lambda_reg)\n",
    "\n",
    "Y_train_predict = np.sign(np.dot(K_SVM,alpha))\n",
    "Y_val_predict = kernel.predict(X_train, X_val,alpha)\n",
    "\n",
    "\n",
    "train_acc = np.sum(Y_train_predict == Y_train_svm)/len(Y_train_svm)\n",
    "val_acc = np.sum(Y_val_predict == Y_val_svm)/len(Y_val_svm)\n",
    "\n",
    "print('Train Accuracy: {}%'.format(train_acc*100))\n",
    "print('Val Accuracy: {}%'.format(val_acc*100))"
   ]
  },
  {
   "cell_type": "markdown",
   "id": "spoken-range",
   "metadata": {},
   "source": [
    "# String kernels"
   ]
  },
  {
   "cell_type": "code",
   "execution_count": 117,
   "id": "unsigned-lesson",
   "metadata": {},
   "outputs": [],
   "source": [
    "import pandas as pd\n",
    "import numpy as np\n",
    "from cvxopt import matrix, solvers\n",
    "\n",
    "from datahandler import datahandler\n",
    "import predictors\n",
    "from kernels import Kernel\n",
    "from sklearn import datasets\n",
    "import matplotlib.pyplot as plt"
   ]
  },
  {
   "cell_type": "code",
   "execution_count": 118,
   "id": "allied-penalty",
   "metadata": {},
   "outputs": [],
   "source": [
    "path_data = 'dataset/Xtr2.csv'\n",
    "path_label = 'dataset/Ytr2.csv'\n",
    "\n",
    "dataset = datahandler(path_data, path_label,features_generated=False)\n",
    "X,y = dataset.X, dataset.Y"
   ]
  },
  {
   "cell_type": "markdown",
   "id": "inclusive-shell",
   "metadata": {},
   "source": [
    "### Spectrum Kernel"
   ]
  },
  {
   "cell_type": "code",
   "execution_count": 115,
   "id": "charged-ferry",
   "metadata": {},
   "outputs": [
    {
     "name": "stderr",
     "output_type": "stream",
     "text": [
      "100%|███████████████████████████████████████████████████████████████████████████| 2000/2000 [00:00<00:00, 23836.69it/s]"
     ]
    },
    {
     "name": "stdout",
     "output_type": "stream",
     "text": [
      "Computing vocabulary...\n"
     ]
    },
    {
     "name": "stderr",
     "output_type": "stream",
     "text": [
      "\n",
      "100%|██████████████████████████████████████████████████████████████████████████████| 1523/1523 [00:31<00:00, 47.84it/s]\n"
     ]
    },
    {
     "name": "stdout",
     "output_type": "stream",
     "text": [
      "     pcost       dcost       gap    pres   dres\n",
      " 0: -1.3523e+01 -1.8824e+01  4e+03  6e+01  1e-15\n",
      " 1: -1.3491e+01 -1.8342e+01  4e+02  6e+00  7e-16\n",
      " 2: -1.2586e+01 -1.6340e+01  8e+01  1e+00  1e-15\n",
      " 3: -8.1576e+00 -1.2361e+01  1e+01  1e-01  4e-15\n",
      " 4: -6.6340e+00 -8.5367e+00  2e+00  3e-03  2e-15\n",
      " 5: -6.8726e+00 -7.1855e+00  3e-01  4e-04  8e-16\n",
      " 6: -6.9428e+00 -6.9977e+00  6e-02  6e-05  7e-16\n",
      " 7: -6.9582e+00 -6.9667e+00  9e-03  6e-06  7e-16\n",
      " 8: -6.9613e+00 -6.9618e+00  5e-04  2e-07  7e-16\n",
      " 9: -6.9615e+00 -6.9615e+00  1e-05  4e-09  8e-16\n"
     ]
    },
    {
     "name": "stderr",
     "output_type": "stream",
     "text": [
      "  1%|▌                                                                                 | 3/477 [00:00<00:16, 28.26it/s]"
     ]
    },
    {
     "name": "stdout",
     "output_type": "stream",
     "text": [
      "10: -6.9615e+00 -6.9615e+00  5e-07  7e-11  8e-16\n",
      "Optimal solution found.\n"
     ]
    },
    {
     "name": "stderr",
     "output_type": "stream",
     "text": [
      "100%|████████████████████████████████████████████████████████████████████████████████| 477/477 [00:20<00:00, 23.74it/s]"
     ]
    },
    {
     "name": "stdout",
     "output_type": "stream",
     "text": [
      "Train Accuracy: 94.28759028233749%\n",
      "Val Accuracy: 65.61844863731656%\n"
     ]
    },
    {
     "name": "stderr",
     "output_type": "stream",
     "text": [
      "\n"
     ]
    }
   ],
   "source": [
    "dataset.compute_vocabulary(8)\n",
    "dataset.spectral_embedding(8,dataset.vocab)\n",
    "\n",
    "\n",
    "X_train, X_val, Y_train, Y_val = dataset.train_val(dataset.X_embedded,y)\n",
    "Y_train_svm, Y_val_svm = Y_train.copy(), Y_val.copy()\n",
    "\n",
    "lambda_reg = 0.1\n",
    "\n",
    "kernel = Kernel(Kernel.dot_product())\n",
    "\n",
    "\n",
    "\n",
    "K_SVM = kernel.kernel_matrix(X_train)\n",
    "alpha = predictors.SVM.fit(K_SVM,Y_train_svm,lambda_reg)\n",
    "\n",
    "Y_train_predict = np.sign(np.dot(K_SVM,alpha))\n",
    "Y_val_predict = kernel.predict(X_train, X_val,alpha)\n",
    "\n",
    "\n",
    "train_acc = np.sum(Y_train_predict == Y_train_svm)/len(Y_train_svm)\n",
    "val_acc = np.sum(Y_val_predict == Y_val_svm)/len(Y_val_svm)\n",
    "\n",
    "print('Train Accuracy: {}%'.format(train_acc*100))\n",
    "print('Val Accuracy: {}%'.format(val_acc*100))"
   ]
  },
  {
   "cell_type": "markdown",
   "id": "taken-electronics",
   "metadata": {},
   "source": [
    "## Mismatch Kernel"
   ]
  },
  {
   "cell_type": "code",
   "execution_count": 13,
   "id": "material-convention",
   "metadata": {},
   "outputs": [
    {
     "name": "stdout",
     "output_type": "stream",
     "text": [
      "     pcost       dcost       gap    pres   dres\n",
      " 0: -4.4647e+00 -9.5650e+00  3e+03  6e+01  2e-13\n",
      " 1: -4.4494e+00 -9.3208e+00  2e+02  3e+00  2e-13\n",
      " 2: -3.6450e+00 -8.3706e+00  4e+01  5e-01  1e-13\n",
      " 3: -2.3852e+00 -7.1195e+00  1e+01  1e-01  8e-14\n",
      " 4: -1.9639e+00 -4.6086e+00  4e+00  2e-02  3e-14\n",
      " 5: -1.8683e+00 -2.4995e+00  7e-01  2e-03  3e-14\n",
      " 6: -1.9329e+00 -2.0509e+00  1e-01  3e-04  3e-14\n",
      " 7: -1.9513e+00 -1.9674e+00  2e-02  3e-05  3e-14\n",
      " 8: -1.9543e+00 -1.9569e+00  3e-03  4e-06  3e-14\n",
      " 9: -1.9549e+00 -1.9550e+00  1e-04  1e-07  3e-14\n",
      "10: -1.9549e+00 -1.9549e+00  3e-06  2e-09  3e-14\n",
      "11: -1.9549e+00 -1.9549e+00  8e-08  3e-11  3e-14\n",
      "Optimal solution found.\n",
      "Train Accuracy: 98.14077025232405%\n",
      "Val Accuracy: 72.8744939271255%\n"
     ]
    }
   ],
   "source": [
    "dataset.compute_vocabulary(6)\n",
    "dataset.mismatch_embedding(6,1)\n",
    "\n",
    "\n",
    "X_train, X_val, Y_train, Y_val = dataset.train_val(dataset.X_embedded,y)\n",
    "Y_train_svm, Y_val_svm = Y_train.copy(), Y_val.copy()\n",
    "\n",
    "lambda_reg = 0.1\n",
    "\n",
    "kernel = Kernel(Kernel.dot_product())\n",
    "\n",
    "\n",
    "\n",
    "K_SVM = kernel.kernel_matrix(X_train)\n",
    "alpha = predictors.SVM.fit(K_SVM,Y_train_svm,lambda_reg)\n",
    "\n",
    "Y_train_predict = np.sign(np.dot(K_SVM,alpha))\n",
    "Y_val_predict = kernel.predict(X_train, X_val,alpha)\n",
    "\n",
    "\n",
    "train_acc = np.sum(Y_train_predict == Y_train_svm)/len(Y_train_svm)\n",
    "val_acc = np.sum(Y_val_predict == Y_val_svm)/len(Y_val_svm)\n",
    "\n",
    "print('Train Accuracy: {}%'.format(train_acc*100))\n",
    "print('Val Accuracy: {}%'.format(val_acc*100))"
   ]
  }
 ],
 "metadata": {
  "kernelspec": {
   "display_name": "Python 3",
   "language": "python",
   "name": "python3"
  },
  "language_info": {
   "codemirror_mode": {
    "name": "ipython",
    "version": 3
   },
   "file_extension": ".py",
   "mimetype": "text/x-python",
   "name": "python",
   "nbconvert_exporter": "python",
   "pygments_lexer": "ipython3",
   "version": "3.7.6"
  }
 },
 "nbformat": 4,
 "nbformat_minor": 5
}
